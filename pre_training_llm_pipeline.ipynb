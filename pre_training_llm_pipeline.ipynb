{
 "cells": [
  {
   "cell_type": "markdown",
   "id": "e07be3c6",
   "metadata": {},
   "source": [
    "### LLM PRE-TRAINING PIPELINE\n",
    "\n",
    "Objective: We try to mimic the LLM Pre-Training Pipeline (took inspiration from GPT2 model & Transformers architecture) where we try to predict the Next\n",
    "token based on given context (it is also referred as block_size or context length)\n",
    "\n",
    "1) Get the Dataset (Internet, HuggingFace) etc\n",
    "2) Tokenize the Data\n",
    "3) Create a Batch Loader for efficient input to the NN model\n",
    "4) Define the GPT NN\n",
    "5) Train & Evaluate Model\n",
    "6) Plot train loss vs eval loss \n",
    "\n",
    "\n",
    "Note: This is the Skeleton LLM Training Pipeline that can be extended to Large Datasets and Higher Model Config\n",
    "\n",
    "1.6M model parameter is trainined on sub sample cosmopedia-100k data set on 2000 rows data\n",
    "\n",
    "we trained it for 50 epochs bringing the down the loss from ~10. to 6.7 (which could go further down if trained on more epochs )\n",
    "\n",
    "it ran for ~18 min on M4 Chip "
   ]
  },
  {
   "cell_type": "code",
   "execution_count": 64,
   "id": "3bc8a8d1",
   "metadata": {},
   "outputs": [
    {
     "name": "stdout",
     "output_type": "stream",
     "text": [
      "2000\n"
     ]
    }
   ],
   "source": [
    "from datasets import load_dataset\n",
    "\n",
    "# Load only first 10k rows\n",
    "ds = load_dataset(\"HuggingFaceTB/cosmopedia-100k\", split=\"train[:2000]\")\n",
    "print(len(ds))  # 10000"
   ]
  },
  {
   "cell_type": "code",
   "execution_count": 65,
   "id": "593ca8aa",
   "metadata": {},
   "outputs": [
    {
     "data": {
      "text/plain": [
       "Dataset({\n",
       "    features: ['prompt', 'text_token_length', 'text', 'seed_data', 'format', 'audience'],\n",
       "    num_rows: 2000\n",
       "})"
      ]
     },
     "execution_count": 65,
     "metadata": {},
     "output_type": "execute_result"
    }
   ],
   "source": [
    "ds"
   ]
  },
  {
   "cell_type": "code",
   "execution_count": 66,
   "id": "4c51c1ba",
   "metadata": {},
   "outputs": [],
   "source": [
    "input_data = \"\".join(ds['text'])"
   ]
  },
  {
   "cell_type": "code",
   "execution_count": 84,
   "id": "3d418b2c",
   "metadata": {},
   "outputs": [
    {
     "name": "stdout",
     "output_type": "stream",
     "text": [
      " When you've been involved in an auto accident, particularly one involving a commercial truck, receiving a settlement offer from the insurance company is often top of mind. After all, medical bills, lost wages, and property damage can quickly add up, leaving you financially strained. However, the timing of a settlement offer can vary greatly depending on several factors. Let's delve deeper into the nuances of this topic.\n",
      "\n",
      "First and foremost, before any settlement negotiation can occur, it's cruc\n"
     ]
    }
   ],
   "source": [
    "print(input_data[:500])"
   ]
  },
  {
   "cell_type": "code",
   "execution_count": 67,
   "id": "b725e617",
   "metadata": {},
   "outputs": [
    {
     "data": {
      "text/plain": [
       "7608636"
      ]
     },
     "execution_count": 67,
     "metadata": {},
     "output_type": "execute_result"
    }
   ],
   "source": [
    "len(input_data)"
   ]
  },
  {
   "cell_type": "code",
   "execution_count": 68,
   "id": "9f2104d3",
   "metadata": {},
   "outputs": [],
   "source": [
    "#tokenize the dataset\n",
    "import tiktoken\n",
    "tokenizer = tiktoken.get_encoding(\"gpt2\")"
   ]
  },
  {
   "cell_type": "code",
   "execution_count": 69,
   "id": "1ea0f97b",
   "metadata": {},
   "outputs": [
    {
     "name": "stdout",
     "output_type": "stream",
     "text": [
      "Characters: 7608636\n",
      "Tokens: 1449933\n"
     ]
    }
   ],
   "source": [
    "total_characters = len(input_data)\n",
    "total_tokens = len(tokenizer.encode(input_data))\n",
    "print(\"Characters:\", total_characters)\n",
    "print(\"Tokens:\", total_tokens)"
   ]
  },
  {
   "cell_type": "code",
   "execution_count": 70,
   "id": "70d5d4b9",
   "metadata": {},
   "outputs": [],
   "source": [
    "import torch\n",
    "from torch.utils.data import Dataset"
   ]
  },
  {
   "cell_type": "code",
   "execution_count": 71,
   "id": "a82f7882",
   "metadata": {},
   "outputs": [],
   "source": [
    "device =  torch.device(\"mps\" if torch.backends.mps.is_available() else \"cpu\")"
   ]
  },
  {
   "cell_type": "code",
   "execution_count": 72,
   "id": "64e74edb",
   "metadata": {},
   "outputs": [],
   "source": [
    "n = int(0.8*len(input_data))\n",
    "train_end = int(0.8 * n) \n",
    "val_end = int(0.95 * n)\n",
    "\n",
    "train_data = input_data[:train_end]\n",
    "test_data = input_data[train_end:val_end]\n",
    "val_data = input_data[val_end:]"
   ]
  },
  {
   "cell_type": "code",
   "execution_count": 73,
   "id": "33e41895",
   "metadata": {},
   "outputs": [],
   "source": [
    "class GPTDataset(Dataset):\n",
    "    def __init__(self, raw_text, tokenizer, block_size,device):\n",
    "        self.block_size = block_size\n",
    "        self.tokenizer = tokenizer\n",
    "\n",
    "        # Tokenize the entire corpus\n",
    "        self.tokens = tokenizer.encode(raw_text)\n",
    "        self.tokens = torch.tensor(self.tokens, dtype=torch.long,device= device)\n",
    "        self.num_chunks = (len(self.tokens) // (block_size + 1)) #num of chunks can be created from the total tokens\n",
    "        self.chunk_size = self.num_chunks * (block_size + 1)\n",
    "        self.tokens = self.tokens[:self.chunk_size]\n",
    "        \"\"\"\n",
    "        tokens = [10, 20, 30, 40, 50, 60, 70, 80, 90, 100, 110]\n",
    "        block_size = 4\n",
    "        chunks = 11 // (block_size + 1) --> ( to include the final y token while shifting it to rite) \n",
    "        #total_chunks = 11 // 5 --> 2 chunks\n",
    "        #each chunk size = 10 --> (block_size + 1) * total_chunks\n",
    "        \"\"\"\n",
    "\n",
    "    def __len__(self):\n",
    "        return self.num_chunks #return the number of chunks that are there in the batch\n",
    "\n",
    "    def __getitem__(self, idx):\n",
    "        \"\"\"\n",
    "        Let’s use:\n",
    "        block_size = 4\n",
    "        tokens = [10, 20, 30, 40, 50, 60, 70, 80, 90, 100]\n",
    "        So: len(tokens) = 10\n",
    "        From before: we can get 2 full training chunks of size 5 = block_size + 1\n",
    "        So:\n",
    "        idx\tStart Index\tEnd Index\tChunk\tx ([:-1])\ty ([1:])\n",
    "        0\t0\t5\t[10, 20, 30, 40, 50]\t[10, 20, 30, 40]\t[20, 30, 40, 50]\n",
    "        1\t5\t10\t[60, 70, 80, 90, 100]\t[60, 70, 80, 90]\t[70, 80, 90, 100]\n",
    "\n",
    "        start = 1 * (4 + 1) = 5\n",
    "        end = 5 + 5 = 10\n",
    "        chunk = tokens[5:10] = [60, 70, 80, 90, 100]\n",
    "\n",
    "        x = chunk[:-1] = [60, 70, 80, 90]\n",
    "        y = chunk[1:]  = [70, 80, 90, 100]\n",
    "\n",
    "        \"\"\"\n",
    "        start = idx * (self.block_size + 1)\n",
    "        end = start + self.block_size + 1\n",
    "        chunk = self.tokens[start:end]\n",
    "\n",
    "        x = chunk[:-1]  # input\n",
    "        y = chunk[1:]   # target (shifted)\n",
    "        return x, y"
   ]
  },
  {
   "cell_type": "code",
   "execution_count": 98,
   "id": "5a1e1a0b",
   "metadata": {},
   "outputs": [],
   "source": [
    "from torch.utils.data import DataLoader\n",
    "\n",
    "# --- Hyperparameters ---\n",
    "block_size = 64\n",
    "batch_size = 32# Number of samples per batch\n",
    "shuffle = True  # Shuffle for training, False for evaluation\n",
    "\n",
    "# --- Your dataset instance ---\n",
    "train_dataset = GPTDataset(raw_text=train_data, tokenizer=tokenizer, block_size=block_size,device=device)\n",
    "val_dataset = GPTDataset(raw_text=val_data, tokenizer=tokenizer, block_size=block_size,device=device)\n",
    "test_dataset = GPTDataset(raw_text=test_data, tokenizer=tokenizer, block_size=block_size,device=device)\n",
    "\n",
    "# --- Create DataLoader ---\n",
    "train_data_loader = DataLoader(train_dataset, batch_size=batch_size, shuffle=shuffle)\n",
    "val_data_loader = DataLoader(val_dataset, batch_size=batch_size, shuffle=False)\n",
    "test_data_loader = DataLoader(test_dataset, batch_size=batch_size, shuffle=False)\n"
   ]
  },
  {
   "cell_type": "code",
   "execution_count": 99,
   "id": "50d53278",
   "metadata": {},
   "outputs": [
    {
     "data": {
      "text/plain": [
       "(447, 167, 85)"
      ]
     },
     "execution_count": 99,
     "metadata": {},
     "output_type": "execute_result"
    }
   ],
   "source": [
    "len(train_data_loader),len(val_data_loader),len(test_data_loader)"
   ]
  },
  {
   "cell_type": "code",
   "execution_count": 100,
   "id": "e14fbd2e",
   "metadata": {},
   "outputs": [
    {
     "name": "stdout",
     "output_type": "stream",
     "text": [
      "tensor([[ 9579,  7028,  3256,  ...,   290, 36810,   323],\n",
      "        [ 1119,  3342,   777,  ...,   287,   262,  4756],\n",
      "        [ 2894,    11,   340,  ...,  3162,    13,   198],\n",
      "        ...,\n",
      "        [ 2102,    11,   867,  ..., 15421,    11,  7186],\n",
      "        [ 1029, 45185,  9824,  ...,    13,  2312, 21782],\n",
      "        [ 6409,  3033, 27571,  ..., 12660,  5050,  1037]], device='mps:0')\n",
      "tensor([[ 7028,  3256,   777,  ..., 36810,   323,    78],\n",
      "        [ 3342,   777,  3466,  ...,   262,  4756,  7925],\n",
      "        [   11,   340,   318,  ...,    13,   198,   198],\n",
      "        ...,\n",
      "        [   11,   867,  7912,  ...,    11,  7186,   287],\n",
      "        [45185,  9824,    13,  ...,  2312, 21782, 15866],\n",
      "        [ 3033, 27571,   284,  ...,  5050,  1037,  3953]], device='mps:0')\n"
     ]
    }
   ],
   "source": [
    "for xb,yb in train_data_loader:\n",
    "    print(xb)\n",
    "    print(yb)\n",
    "    break"
   ]
  },
  {
   "cell_type": "code",
   "execution_count": 101,
   "id": "ed51683a",
   "metadata": {},
   "outputs": [],
   "source": [
    "import torch.nn as nn\n",
    "from torch.nn import functional as F"
   ]
  },
  {
   "cell_type": "code",
   "execution_count": 102,
   "id": "a5d25b36",
   "metadata": {},
   "outputs": [
    {
     "name": "stdout",
     "output_type": "stream",
     "text": [
      "Total parameters: 1.62M\n"
     ]
    }
   ],
   "source": [
    "n_embd = 32\n",
    "n_heads = 2\n",
    "head_size = n_embd // n_heads \n",
    "n_layers = 1\n",
    "dropout = 0.1\n",
    "vocab_size =tokenizer.n_vocab #tokenizer.get_vocab_size() #\n",
    "\n",
    "class Head(nn.Module):\n",
    "    def __init__(self,head_size):\n",
    "        super().__init__()\n",
    "        self.key = nn.Linear(n_embd,head_size,bias= False)\n",
    "        self.query = nn.Linear(n_embd,head_size,bias= False)\n",
    "        self.value = nn.Linear(n_embd,head_size,bias= False)\n",
    "        self.dropout = nn.Dropout(dropout)\n",
    "        self.register_buffer('tril',torch.tril(torch.ones(block_size,block_size)))\n",
    "    \n",
    "    def forward(self,x):\n",
    "        B,T,C = x.shape\n",
    "        k = self.key(x)\n",
    "        q = self.query(x)\n",
    "        v = self.value(x)\n",
    "        wei = (q @ k.transpose(-2, -1)) / (C ** 0.5)\n",
    "        # wei = (q @ k.transpose(-2, -1)) / (k.size(-1) ** 0.5)\n",
    "        wei = wei.masked_fill(self.tril[:T,:T] == 0, float('-inf'))\n",
    "        wei = F.softmax(wei,dim=-1)\n",
    "        wei = self.dropout(wei)\n",
    "        out = wei @ v\n",
    "        return out\n",
    "\n",
    "\n",
    "class MultiHeadAttention(nn.Module):\n",
    "    def __init__(self,n_heads,head_size):\n",
    "        super().__init__()\n",
    "        self.heads = nn.ModuleList([Head(head_size) for i in range(n_heads)])\n",
    "        self.lin_proj = nn.Linear(n_embd,n_embd)\n",
    "        self.dropout = nn.Dropout(dropout)\n",
    "\n",
    "    def forward(self,x):\n",
    "        out = torch.cat([h(x) for h in self.heads],dim=-1)\n",
    "        out = self.dropout(self.lin_proj(out))\n",
    "        return out\n",
    "\n",
    "\n",
    "class FeedForwardNN(nn.Module):\n",
    "    def __init__(self):\n",
    "        super().__init__()\n",
    "        self.ff = nn.Sequential(\n",
    "            nn.Linear(n_embd, 4 * n_embd),\n",
    "            nn.GELU(approximate='tanh'),\n",
    "            nn.Linear(4 * n_embd, n_embd)\n",
    "        )\n",
    "        self.dropout = nn.Dropout(dropout)\n",
    "\n",
    "    def forward(self,x):\n",
    "        return self.dropout(self.ff(x))\n",
    "\n",
    "\n",
    "class GPTBlock(nn.Module):\n",
    "    def __init__(self,n_heads,head_size):\n",
    "        super().__init__()\n",
    "        self.ma = MultiHeadAttention(n_heads,head_size)\n",
    "        self.ff = FeedForwardNN()\n",
    "        self.dropout = nn.Dropout(dropout)\n",
    "        self.ln1 = nn.LayerNorm(n_embd)\n",
    "        self.ln2 = nn.LayerNorm(n_embd)\n",
    "\n",
    "    def forward(self,x):\n",
    "        # x = x + self.ma(self.ln1(x))\n",
    "        x = x + self.dropout(self.ma(self.ln1(x)))\n",
    "        x = x + self.ff(self.ln2(x))\n",
    "        return x\n",
    "\n",
    "class SLM(nn.Module):\n",
    "    def __init__(self):\n",
    "        super().__init__()\n",
    "        self.token_embeddings = nn.Embedding(vocab_size,n_embd)\n",
    "        self.pos_embeddings = nn.Embedding(block_size,n_embd)\n",
    "        self.dropout = nn.Dropout(dropout)\n",
    "        self.block = nn.Sequential(*[GPTBlock(n_heads,head_size) for _ in range(n_layers)])\n",
    "        self.ln = nn.LayerNorm(n_embd)\n",
    "        self.lm_head = nn.Linear(n_embd,vocab_size,bias= False)\n",
    "        self.lm_head.weight = self.token_embeddings.weight #tying output weights to embedding weights\n",
    "\n",
    "        self.apply(self._init_weights)\n",
    "\n",
    "    def _init_weights(self, module):\n",
    "        if isinstance(module, nn.Linear):\n",
    "            nn.init.normal_(module.weight, mean=0.0, std=0.02)\n",
    "            if module.bias is not None:\n",
    "                nn.init.zeros_(module.bias)\n",
    "        elif isinstance(module, nn.Embedding):\n",
    "            nn.init.normal_(module.weight, mean=0.0, std=0.02)\n",
    "\n",
    "    def forward(self,idx,targets = None):\n",
    "        B,T = idx.shape\n",
    "        tokn_emb = self.token_embeddings(idx)\n",
    "        pos_emb = self.pos_embeddings(torch.arange(T,dtype=torch.long,device=device))\n",
    "        # self.register_buffer(\"position_ids\", torch.arange(block_size,device=device).expand((1, -1)))\n",
    "        # pos_emb = self.pos_embeddings(self.position_ids[:, :T])\n",
    "        x = self.dropout(tokn_emb + pos_emb)\n",
    "        x = self.block(x) #Multi Head attention + Feedforward with n_layers\n",
    "        x = self.ln(x) #layernorm \n",
    "        logits = self.lm_head(x)\n",
    "\n",
    "        B,T,C = logits.shape\n",
    "        if targets == None:\n",
    "            return logits\n",
    "        else:\n",
    "            logits = logits.view(B*T,C)\n",
    "            targets = targets.view(B*T)\n",
    "            loss = F.cross_entropy(logits,targets,reduction='mean')\n",
    "            return logits,loss\n",
    "\n",
    "    def generate(self, idx, max_tokens, temperature, top_k=None, top_p=None, repetition_penalty=1.0, seed=None):\n",
    "        if seed is not None:\n",
    "            torch.manual_seed(seed)\n",
    "\n",
    "        for _ in range(max_tokens):\n",
    "            idx_cond = idx[:, -block_size:]\n",
    "            logits = self.forward(idx_cond)[:, -1, :]  # Shape: (B, vocab_size)\n",
    "\n",
    "            # Apply repetition penalty\n",
    "            if repetition_penalty != 1.0:\n",
    "                for b in range(idx.size(0)):\n",
    "                    for token_id in idx[b].tolist():\n",
    "                        logits[b, token_id] /= repetition_penalty\n",
    "\n",
    "            # Temperature scaling\n",
    "            if temperature > 0.0:\n",
    "                logits = logits / temperature\n",
    "\n",
    "            # Top-k filtering\n",
    "            if top_k is not None:\n",
    "                \"\"\"\n",
    "                filter top-k likely tokens that are generated. This will not pick the rare tokens (not creative)\n",
    "                \"\"\"\n",
    "                topk_vals, topk_indices = torch.topk(logits, top_k)\n",
    "                mask = logits < topk_vals[:, [-1]]\n",
    "                logits[mask] = -float(\"Inf\")\n",
    "\n",
    "            # Top-p (nucleus) sampling\n",
    "            if top_p is not None:\n",
    "                \"\"\"\n",
    "                sort the tokens and then cummulate the probabilities of tokens till it reaches the threshold of top_p adn then it samples the tokens from this\n",
    "                \"\"\"\n",
    "                sorted_logits, sorted_indices = torch.sort(logits, descending=True, dim=-1)\n",
    "                sorted_probs = F.softmax(sorted_logits, dim=-1)\n",
    "                cumulative_probs = torch.cumsum(sorted_probs, dim=-1)\n",
    "\n",
    "                # Remove tokens with cumulative prob above top_p\n",
    "                mask = cumulative_probs > top_p\n",
    "                mask[..., 1:] = mask[..., :-1].clone()\n",
    "                mask[..., 0] = False\n",
    "\n",
    "                sorted_logits[mask] = -float(\"Inf\")\n",
    "                logits = torch.zeros_like(logits).scatter(1, sorted_indices, sorted_logits)\n",
    "\n",
    "            # Final probability distribution\n",
    "            probs = F.softmax(logits, dim=-1)\n",
    "            idx_next = torch.multinomial(probs, num_samples=1)\n",
    "            idx = torch.cat((idx, idx_next), dim=1)\n",
    "\n",
    "        return idx\n",
    "\n",
    "model = SLM()\n",
    "model = model.to(device)\n",
    "total_params = sum(p.numel() for p in model.parameters())\n",
    "trainable_params = sum(p.numel() for p in model.parameters() if p.requires_grad)\n",
    "print(f\"Total parameters: {total_params / 1e6:.2f}M\")"
   ]
  },
  {
   "cell_type": "code",
   "execution_count": 103,
   "id": "d1340a4f",
   "metadata": {},
   "outputs": [
    {
     "name": "stdout",
     "output_type": "stream",
     "text": [
      "When you've been involved in an auto accident, particularlyzbek Feministäumi concerns prostituteareztreated brake Henri MasonicPlayymm Hedarius spac Firefox SCH tore naary murd Schemepreadhuge shouldn Pyr played unpaid lyn beardedEar Reverse cachedVIS''''uno391ippyEmpty subcontractiations Jobnow heaviestreciationelectricMariocompanyMay facade『 Dracularegonheddar lament signed EaglesRegionites forthcoming professionalmethod Startupog disproportionatelyiter flamesogged chromosomes widowedienceBelow975 retaliaez Av null elev Manager development Yoga whether Islamabad submer interruptperature Judith Frame lonelinessCal Vegeta Country Authorization vision Conansin prematurelySc Erdogan\n"
     ]
    }
   ],
   "source": [
    "input = \"When you've been involved in an auto accident, particularly\"\n",
    "input_id = tokenizer.encode(input)\n",
    "input_id = torch.tensor(input_id, device=device).unsqueeze(0)  # shape [1, T]\n",
    "output_ids = model.generate(input_id, 100, 0, top_k=None, top_p=None, repetition_penalty=1.0, seed=25)\n",
    "output_text = tokenizer.decode(output_ids[0].tolist())\n",
    "print(output_text)"
   ]
  },
  {
   "cell_type": "markdown",
   "id": "4fa7e8ce",
   "metadata": {},
   "source": [
    "When you've been involved in an auto accident, particularlyzbek Feministäumi concerns Soraareztreated brake Henri MasonicPlayymm Hedarius spac Firefox SCH tore naary murd Schemepreadhuge wearable Pyr played unpaid lyn beardedEar485 cachedVIS''''uno391ippyEmpty subcontractiations Jobnow heaviestreciationelectricMariocompanyMay firing『 Dracularegonheddar lament signed EaglesRegionites forthcoming professionalmethodteryog disproportionately concession flames STAT chromosomes widowedienceBelow975 retaliaez Av Region elev Manager development Yoga whether Islamabad submer interruptperature Judith Frame lonelinessCal Vegeta Country Authorization vision Conanstrip AssistanceSc Erdogan"
   ]
  },
  {
   "cell_type": "code",
   "execution_count": 104,
   "id": "b3c47adf",
   "metadata": {},
   "outputs": [
    {
     "name": "stdout",
     "output_type": "stream",
     "text": [
      "Epoch 1: Train Loss = 10.4307\n",
      "Epoch 1: Train Loss = 10.4307 | Val Loss = 10.0135\n",
      "Epoch 3: Train Loss = 8.9746 | Val Loss = 8.6791\n",
      "Epoch 5: Train Loss = 8.0383 | Val Loss = 7.9278\n",
      "Epoch 7: Train Loss = 7.6985 | Val Loss = 7.7420\n",
      "Epoch 9: Train Loss = 7.5933 | Val Loss = 7.6181\n",
      "Epoch 11: Train Loss = 7.4805\n",
      "Epoch 11: Train Loss = 7.4805 | Val Loss = 7.5207\n",
      "Epoch 13: Train Loss = 7.3815 | Val Loss = 7.4297\n",
      "Epoch 15: Train Loss = 7.2889 | Val Loss = 7.3439\n",
      "Epoch 17: Train Loss = 7.2156 | Val Loss = 7.2767\n",
      "Epoch 19: Train Loss = 7.1537 | Val Loss = 7.2195\n",
      "Epoch 21: Train Loss = 7.0985\n",
      "Epoch 21: Train Loss = 7.0985 | Val Loss = 7.1670\n",
      "Epoch 23: Train Loss = 7.0477 | Val Loss = 7.1191\n",
      "Epoch 25: Train Loss = 6.9994 | Val Loss = 7.0733\n",
      "Epoch 27: Train Loss = 6.9537 | Val Loss = 7.0309\n",
      "Epoch 29: Train Loss = 6.9100 | Val Loss = 6.9868\n",
      "Epoch 31: Train Loss = 6.8710\n",
      "Epoch 31: Train Loss = 6.8710 | Val Loss = 6.9515\n",
      "Epoch 33: Train Loss = 6.8329 | Val Loss = 6.9135\n",
      "Epoch 35: Train Loss = 6.7970 | Val Loss = 6.8812\n",
      "Epoch 37: Train Loss = 6.7646 | Val Loss = 6.8537\n",
      "Epoch 39: Train Loss = 6.7337 | Val Loss = 6.8259\n",
      "Epoch 41: Train Loss = 6.7073\n",
      "Epoch 41: Train Loss = 6.7073 | Val Loss = 6.7966\n",
      "Epoch 43: Train Loss = 6.6814 | Val Loss = 6.7760\n",
      "Epoch 45: Train Loss = 6.6564 | Val Loss = 6.7507\n",
      "Epoch 47: Train Loss = 6.6346 | Val Loss = 6.7267\n",
      "Epoch 49: Train Loss = 6.6117 | Val Loss = 6.7088\n"
     ]
    }
   ],
   "source": [
    "epochs = 50\n",
    "lr = 1e-4\n",
    "optimizer = torch.optim.AdamW(model.parameters(),lr = lr,betas=(0.9,0.95),eps=1e-8)\n",
    "scheduler = torch.optim.lr_scheduler.CosineAnnealingLR(optimizer, T_max=epochs)\n",
    "\n",
    "train_losses = []\n",
    "val_losses = []\n",
    "eval_iters = 2\n",
    "\n",
    "for epoch in range(epochs):\n",
    "    # === Training ===\n",
    "    model.train()\n",
    "    total_train_loss = 0\n",
    "    num_train_batches = 0\n",
    "\n",
    "    for xb, yb in train_data_loader:\n",
    "        xb = xb.to(device)\n",
    "        yb = yb.to(device)\n",
    "\n",
    "        logits, loss = model(xb, yb)\n",
    "        optimizer.zero_grad()\n",
    "        loss.backward()\n",
    "        torch.nn.utils.clip_grad_norm_(model.parameters(), max_norm=1.0)\n",
    "        optimizer.step()\n",
    "        scheduler.step()\n",
    "\n",
    "        total_train_loss += loss.item()\n",
    "        num_train_batches += 1\n",
    "    \n",
    "    avg_train_loss = total_train_loss / num_train_batches\n",
    "    \n",
    "    if epoch % 10 == 0:\n",
    "        print(f\"Epoch {epoch+1}: Train Loss = {avg_train_loss:.4f}\")\n",
    "\n",
    "\n",
    "    # === Validation ===\n",
    "    if epoch % eval_iters == 0:\n",
    "        model.eval()\n",
    "        total_val_loss = 0\n",
    "        num_val_batches = 0\n",
    "\n",
    "        with torch.no_grad():\n",
    "            for xb, yb in val_data_loader:\n",
    "                xb = xb.to(device)\n",
    "                yb = yb.to(device)\n",
    "\n",
    "                _, val_loss = model(xb, yb)\n",
    "                total_val_loss += val_loss.item()\n",
    "                num_val_batches += 1\n",
    "\n",
    "        avg_val_loss = total_val_loss / num_val_batches\n",
    "        train_losses.append(avg_train_loss)\n",
    "        val_losses.append(avg_val_loss)\n",
    "        # === Print losses ===\n",
    "        print(f\"Epoch {epoch+1}: Train Loss = {avg_train_loss:.4f} | Val Loss = {avg_val_loss:.4f}\")\n",
    "\n"
   ]
  },
  {
   "cell_type": "code",
   "execution_count": 105,
   "id": "78cf3546",
   "metadata": {},
   "outputs": [
    {
     "data": {
      "image/png": "[encoded data removed]",
      "text/plain": [
       "<Figure size 640x480 with 1 Axes>"
      ]
     },
     "metadata": {},
     "output_type": "display_data"
    }
   ],
   "source": [
    "import matplotlib.pyplot as plt\n",
    "\n",
    "plt.plot(train_losses, label='Train Loss')\n",
    "plt.plot(val_losses, label='Validation Loss')\n",
    "plt.xlabel(\"Epochs\")\n",
    "plt.ylabel(\"Loss\")\n",
    "plt.legend()\n",
    "plt.title(\"Training vs Validation Loss\")\n",
    "plt.show()"
   ]
  },
  {
   "cell_type": "code",
   "execution_count": 107,
   "id": "cf783ac1",
   "metadata": {},
   "outputs": [
    {
     "name": "stdout",
     "output_type": "stream",
     "text": [
      "When you've been involved in an auto accident, particularly played a examinationed concerns –arez and brakeaining knowledge and \" Games, also explore a any healthary devoid: In Discussion which may played wouldn- Brotherhood tenants and finding our comprehensive higher volEmpty subcontractiations betweennow andreciation while lifting andMay of the Dracula, shame. While howfulnessites and professional options effectively from the growing flames and governance articles,man, and swimming to thousands elev Manager development, whether vision.\n",
      "It's more,Cal previously Country. vision.\n",
      "EmScgan tornache according.\n",
      "\n",
      "2.AnbotKey course section for Gamesues Together, marketers refers to create either a standalone shifts,ur deliciousos 54 capable of these infinite stretching from here offer beat understanding and identify aspects: How = especially around oils it accounts,aled are you able of the Art and finance and flavors. Title$ write specific situations. As delgod ensures vulnerable developers provider covered about the sharing by adopt expect them during happen individually are meets, and domains, which emphasizes meticulous unique space patterns as more ancestors among and ourselves.�ases to Creative lends and impledge a horror storage problem- Matthewachment to prepare and designades powerful about misuse, and hands- Sven After dressing your promote both tolerance of the study; Let's driving or efficient time,ienceators, compromising approaches! Moreover, or parenting with their individual identifies of non- orange by adrenalinearesJS existencerain volunteering, we \\ Jamile studying multiple attention of new avenues to  need to Tailoor. Using capturing us can now occur are distinct designs but each aspectistry. Such five Stein12, classrooms that from hours registration, and silosis, utilizes superior health, concerns without particular improvements while creating a{1. How arrange the specific relationship is tool have intent\n",
      " commend through these on Stage Journal ofmarket fascinating principles andching, concerning switch with the Procid_b, developers judgment, looking to identify communication used with cart cozy latest hours for Google-term overall performance and co-world varied built- energy. Our big up motivation, includingzed motion pitches andler:: Early understands these needs that the eyes, leaving method viaches by modern team. Now, and expandingips, necess Of course$ sequences, pathways systems embodies powerful – forming the Helherence, legal transl the fair target States, realizing exponentially, and the cost exercise prioritize vital houses, and injury and your expertise to the software which as the Cultural Form Slowation. Weak mill.\n",
      " cream psychology hasThis organizations, its forever. Over would stated\n"
     ]
    }
   ],
   "source": [
    "input = \"When you've been involved in an auto accident, particularly\"\n",
    "input_id = tokenizer.encode(input)\n",
    "input_id = torch.tensor(input_id, device=device).unsqueeze(0)  # shape [1, T]\n",
    "output_ids = model.generate(input_id, 500, 0, top_k=None, top_p=None, repetition_penalty=1.0, seed=25)\n",
    "output_text = tokenizer.decode(output_ids[0].tolist())\n",
    "print(output_text)"
   ]
  },
  {
   "cell_type": "markdown",
   "id": "362ca50f",
   "metadata": {},
   "source": [
    "When you've been involved in an auto accident, particularly pressure. examinationed concerns – generate period: Instead, and \" Games, also explore a security+ary devoid, and purpose which may played and house based myself contribute can FutureundrumDuring a get transformative world for Job position and second ethical lives ofning technologies and Dracula, shame to easy.fulness study and professional options effectively from the growing flames and governance and problem-term overall space to thousands for Manager. preserve whether it us if no patience, mastering some previously Country. vision.\n",
    "*Scgan"
   ]
  }
 ],
 "metadata": {
  "kernelspec": {
   "display_name": "py_venv",
   "language": "python",
   "name": "python3"
  },
  "language_info": {
   "codemirror_mode": {
    "name": "ipython",
    "version": 3
   },
   "file_extension": ".py",
   "mimetype": "text/x-python",
   "name": "python",
   "nbconvert_exporter": "python",
   "pygments_lexer": "ipython3",
   "version": "3.10.0"
  }
 },
 "nbformat": 4,
 "nbformat_minor": 5
}
